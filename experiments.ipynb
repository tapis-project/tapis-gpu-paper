{
 "cells": [
  {
   "cell_type": "markdown",
   "id": "e372d3c3-2c43-4a57-8334-e8b0d760a88b",
   "metadata": {
    "tags": []
   },
   "source": [
    "# Pods Experiments\n",
    "\n",
    "##### NOT USED FOR GPU-AWARE YET (Friday) Feel free to add experiments here though, giving some description of what you're doing. If you want of course, this is all brownie points for an invisible audience."
   ]
  },
  {
   "cell_type": "markdown",
   "id": "60f47c95-323a-4564-855b-4c375854b181",
   "metadata": {},
   "source": [
    "## Create fake testing data. Create csvs with 10000, 200000, and 500000 rows."
   ]
  },
  {
   "cell_type": "code",
   "execution_count": 186,
   "id": "31ee3fa7-4668-4c06-8e05-bea15ba44927",
   "metadata": {},
   "outputs": [
    {
     "name": "stdout",
     "output_type": "stream",
     "text": [
      "9000\r"
     ]
    }
   ],
   "source": [
    "## Creating fake data to use in Neo4j and Postgres\n",
    "number_of_rows = 10000\n",
    "\n",
    "persons = []\n",
    "for i in range(number_of_rows):\n",
    "    person = {\"name\": fake.name(),\n",
    "              \"email\": fake.email(),\n",
    "              \"phone number\": fake.phone_number(),\n",
    "              \"address\": fake.address(),\n",
    "              \"description\": fake.text(),\n",
    "              \"company\": fake.company()}\n",
    "    persons.append(person)\n",
    "    if i % 1000 == 0:\n",
    "        print(i, end=\"\\r\", flush=True)\n",
    "\n",
    "# Define the CSV file name\n",
    "csv_file_name = f\"syntheticdata{number_of_rows}.csv\"\n",
    "\n",
    "# Write the list of dictionaries to the CSV file\n",
    "with open(csv_file_name, mode='w', newline='') as csv_file:\n",
    "    fieldnames = persons[0].keys()\n",
    "    writer = csv.DictWriter(csv_file, fieldnames=fieldnames)\n",
    "\n",
    "    writer.writeheader()\n",
    "    for row in persons:\n",
    "        writer.writerow(row)"
   ]
  },
  {
   "cell_type": "code",
   "execution_count": null,
   "id": "cbc414ca-c7df-40df-a0b2-eeacd1be53a6",
   "metadata": {},
   "outputs": [],
   "source": [
    "# We then upload these csvs to a single Pods service Volume\n",
    "volume_id = \"myvolume\"\n",
    "for csv_file in [\"syntheticdata10000.csv\", \"syntheticdata200000.csv\", \"syntheticdata500000.csv\"]:\n",
    "with open(csv_file, \"rb\") as file:\n",
    "    t.pods.upload_to_volume(volume_id=volume_id, path=csv_file, file=file)"
   ]
  },
  {
   "cell_type": "markdown",
   "id": "cad87ab9-1caf-41c4-86cc-9b0a17bce354",
   "metadata": {},
   "source": [
    "# Neo4j Testing\n",
    "For these tests we will create a Neo4j instance in the Pods service, in AuraDB, and locally with Docker. We will then import our synthetic data to each of these three instances. We'll then run our experiments by changing the urls and executing code in the \"Neo4j Testing Function\" code block. We have three sets of synthetic data, so we'll delete and recreate three times, each with a different set of data."
   ]
  },
  {
   "cell_type": "markdown",
   "id": "c54b24eb-6092-4906-8db1-12f6fcc92323",
   "metadata": {
    "tags": []
   },
   "source": [
    "## Neo4j Pods\n",
    "You'll need to create the Pod, get it's credentials from the API and then load the CSV into the database. "
   ]
  },
  {
   "cell_type": "code",
   "execution_count": 273,
   "id": "9a54d47b-2782-4124-b99a-f3c1ca338d7b",
   "metadata": {},
   "outputs": [],
   "source": [
    "# Import libs, setup credentials, and neo4j driver\n",
    "from neo4j import GraphDatabase\n",
    "import timeit\n",
    "\n",
    "url = \"bolt+s://neo4jpaper.pods.icicle.develop.tapis.io:443\"\n",
    "user = \"neo4jpaper\"\n",
    "passw = \"password\"\n",
    "neo = GraphDatabase.driver(url, auth = (user, passw), max_connection_lifetime=30)"
   ]
  },
  {
   "cell_type": "code",
   "execution_count": 288,
   "id": "79e4a12a-a432-4e16-a2b5-4cbdd5a32ca5",
   "metadata": {},
   "outputs": [],
   "source": [
    "# Load CSV\n",
    "query = f\"\"\"\n",
    "USING PERIODIC COMMIT\n",
    "LOAD CSV WITH HEADERS FROM 'file:///syntheticdata10000.csv' AS row\n",
    "CREATE (w:Worker {{\n",
    "    name: row.name,\n",
    "    email: row.email,\n",
    "    phone_number: row.`phone number`,\n",
    "    address: row.address,\n",
    "    description: row.description,\n",
    "    company: row.company\n",
    "}})\n",
    "\"\"\"\n",
    "with neo.session() as session:\n",
    "    session.run(query)"
   ]
  },
  {
   "cell_type": "markdown",
   "id": "226a6440-b308-4ca2-90d4-ce41b93113df",
   "metadata": {
    "tags": []
   },
   "source": [
    "## Neo4j AuraDB\n",
    "You'll need to create an AuraDB database, get it's credentials from the website, and then load the CSV into the database.\n",
    "\n",
    "AuraDB site: https://neo4j.com/cloud/platform/aura-graph-database/  \n",
    "\n",
    "With AuraDB you can upload csvs with the Neo4j Data Importer, located here: https://data-importer.neo4j.io/  \n",
    "\n",
    "AuraDB Free max node count is 200000, so we only test up to 200000 nodes with it."
   ]
  },
  {
   "cell_type": "code",
   "execution_count": 224,
   "id": "18009fdc-357b-411a-aaf8-83042928dbcd",
   "metadata": {},
   "outputs": [],
   "source": [
    "# Import libs, setup credentials, and neo4j driver\n",
    "from neo4j import GraphDatabase\n",
    "import timeit\n",
    "\n",
    "url = \"neo4j+s://neo4jpaper.databases.neo4j.io\"\n",
    "user = \"neo4jpaper\"\n",
    "passw = \"password\"\n",
    "neo = GraphDatabase.driver(url, auth = (user, passw), max_connection_lifetime=30)"
   ]
  },
  {
   "cell_type": "markdown",
   "id": "1cc934dc-f441-4d57-b18f-3dabf582ba70",
   "metadata": {
    "tags": []
   },
   "source": [
    "## Neo4j Local\n",
    "Create local instance with docker-compose.yml. Ensure csv is in correct file path for volume mount to work. Then connect and load the CSV."
   ]
  },
  {
   "cell_type": "code",
   "execution_count": 263,
   "id": "84cd4602-3634-421d-979a-67eadc2100c6",
   "metadata": {},
   "outputs": [],
   "source": [
    "# Import libs, setup credentials, and neo4j driver\n",
    "from neo4j import GraphDatabase\n",
    "import timeit\n",
    "\n",
    "url = \"bolt://localhost:7811\"\n",
    "user = \"neo4j\"\n",
    "passw = \"newPassword\"\n",
    "neo = GraphDatabase.driver(url, auth = (user, passw), max_connection_lifetime=30)"
   ]
  },
  {
   "cell_type": "code",
   "execution_count": 262,
   "id": "9f68b564-8b93-4da7-b115-6ad596559732",
   "metadata": {},
   "outputs": [],
   "source": [
    "# Load CSV\n",
    "query = f\"\"\"\n",
    "USING PERIODIC COMMIT\n",
    "LOAD CSV WITH HEADERS FROM 'file:///syntheticdata200000.csv' AS row\n",
    "CREATE (w:Worker {{\n",
    "    name: row.name,\n",
    "    email: row.email,\n",
    "    phone_number: row.`phone number`,\n",
    "    address: row.address,\n",
    "    description: row.description,\n",
    "    company: row.company\n",
    "}})\n",
    "\"\"\"\n",
    "with neo.session() as session:\n",
    "    session.run(query)"
   ]
  },
  {
   "cell_type": "markdown",
   "id": "eb9ce269-9ed0-4e57-8ca9-b14fd8eb76db",
   "metadata": {
    "tags": []
   },
   "source": [
    "## Neo4j Testing Function\n",
    "This is how we'll run our test for Neo4j. You should, above, define the neo4j credentials you want to use, url, user, passw, and neo. "
   ]
  },
  {
   "cell_type": "code",
   "execution_count": 292,
   "id": "04417532-46b5-428e-831d-241d69140cab",
   "metadata": {},
   "outputs": [
    {
     "name": "stdout",
     "output_type": "stream",
     "text": [
      "Neo4J url: bolt+s://neo4jpaper.pods.icicle.develop.tapis.io:443\n",
      "iteration: 0 number_of_nodes: 10000 time_total: 2.3528107460588217\n",
      "iteration: 1 number_of_nodes: 10000 time_total: 1.8315149834379554\n",
      "iteration: 2 number_of_nodes: 10000 time_total: 2.4489784091711044\n",
      "iteration: 3 number_of_nodes: 10000 time_total: 2.3645988339558244\n",
      "iteration: 4 number_of_nodes: 10000 time_total: 1.8414975395426154\n",
      "iteration: 5 number_of_nodes: 10000 time_total: 1.8316038064658642\n",
      "iteration: 6 number_of_nodes: 10000 time_total: 1.8185261134058237\n",
      "iteration: 7 number_of_nodes: 10000 time_total: 1.8369185803458095\n",
      "iteration: 8 number_of_nodes: 10000 time_total: 2.400876132771373\n",
      "iteration: 9 number_of_nodes: 10000 time_total: 1.825438848696649\n",
      "iteration: 10 number_of_nodes: 10000 time_total: 2.3966366592794657\n",
      "iteration: 11 number_of_nodes: 10000 time_total: 1.8682471001520753\n",
      "iteration: 12 number_of_nodes: 10000 time_total: 1.8339237933978438\n",
      "iteration: 13 number_of_nodes: 10000 time_total: 1.8139731381088495\n",
      "iteration: 14 number_of_nodes: 10000 time_total: 1.8239966202527285\n",
      "iteration: 15 number_of_nodes: 10000 time_total: 1.819973229430616\n",
      "iteration: 16 number_of_nodes: 10000 time_total: 2.373616185039282\n",
      "iteration: 17 number_of_nodes: 10000 time_total: 2.405023070052266\n",
      "iteration: 18 number_of_nodes: 10000 time_total: 1.7739336071535945\n",
      "iteration: 19 number_of_nodes: 10000 time_total: 1.8339115735143423\n",
      "iteration: 20 number_of_nodes: 10000 time_total: 2.968496690504253\n",
      "iteration: 21 number_of_nodes: 10000 time_total: 1.86070547811687\n",
      "iteration: 22 number_of_nodes: 10000 time_total: 1.8354084575548768\n",
      "iteration: 23 number_of_nodes: 10000 time_total: 2.371865399181843\n",
      "iteration: 24 number_of_nodes: 10000 time_total: 2.402175166644156\n",
      "iteration: 25 number_of_nodes: 10000 time_total: 1.8059536833316088\n",
      "iteration: 26 number_of_nodes: 10000 time_total: 1.860396427102387\n",
      "iteration: 27 number_of_nodes: 10000 time_total: 1.8150785164907575\n",
      "iteration: 28 number_of_nodes: 10000 time_total: 1.8421091381460428\n",
      "iteration: 29 number_of_nodes: 10000 time_total: 1.833005666732788\n",
      "iteration: 30 number_of_nodes: 10000 time_total: 2.3889796333387494\n",
      "iteration: 31 number_of_nodes: 10000 time_total: 1.7923370404168963\n",
      "iteration: 32 number_of_nodes: 10000 time_total: 2.3777577774599195\n",
      "iteration: 33 number_of_nodes: 10000 time_total: 1.8569985423237085\n",
      "iteration: 34 number_of_nodes: 10000 time_total: 1.8320685336366296\n",
      "iteration: 35 number_of_nodes: 10000 time_total: 1.806072567589581\n",
      "iteration: 36 number_of_nodes: 10000 time_total: 1.8409708673134446\n",
      "iteration: 37 number_of_nodes: 10000 time_total: 2.360510267317295\n",
      "iteration: 38 number_of_nodes: 10000 time_total: 1.7955089379101992\n",
      "iteration: 39 number_of_nodes: 10000 time_total: 1.8453382598236203\n",
      "iteration: 40 number_of_nodes: 10000 time_total: 2.420568428002298\n",
      "iteration: 41 number_of_nodes: 10000 time_total: 1.8236252572387457\n",
      "iteration: 42 number_of_nodes: 10000 time_total: 1.8390760719776154\n",
      "iteration: 43 number_of_nodes: 10000 time_total: 1.821843727491796\n",
      "iteration: 44 number_of_nodes: 10000 time_total: 3.0992008857429028\n",
      "iteration: 45 number_of_nodes: 10000 time_total: 1.8427939731627703\n",
      "iteration: 46 number_of_nodes: 10000 time_total: 1.7963874274864793\n",
      "iteration: 47 number_of_nodes: 10000 time_total: 1.8062713472172618\n",
      "iteration: 48 number_of_nodes: 10000 time_total: 2.391953800804913\n",
      "iteration: 49 number_of_nodes: 10000 time_total: 1.8087437311187387\n",
      "iteration: 50 number_of_nodes: 10000 time_total: 1.8159660305827856\n",
      "iteration: 51 number_of_nodes: 10000 time_total: 2.3484411146491766\n",
      "iteration: 52 number_of_nodes: 10000 time_total: 1.8186610722914338\n",
      "iteration: 53 number_of_nodes: 10000 time_total: 1.8250053757801652\n",
      "iteration: 54 number_of_nodes: 10000 time_total: 1.8501507798209786\n",
      "iteration: 55 number_of_nodes: 10000 time_total: 1.829118663445115\n",
      "iteration: 56 number_of_nodes: 10000 time_total: 2.5624345457181334\n",
      "iteration: 57 number_of_nodes: 10000 time_total: 2.2727689808234572\n",
      "iteration: 58 number_of_nodes: 10000 time_total: 1.800106423906982\n",
      "iteration: 59 number_of_nodes: 10000 time_total: 1.8625318529084325\n"
     ]
    }
   ],
   "source": [
    "import time\n",
    "print(f\"Neo4J url: {url}\")\n",
    "for iteration in range(60):\n",
    "    start_t = timeit.default_timer()\n",
    "    with neo.session() as session:\n",
    "        result = session.run(\"MATCH (n) RETURN n\")\n",
    "        node_count = len(result.values())\n",
    "    end_t = timeit.default_timer()\n",
    "    time.sleep(2)\n",
    "    print(f\"iteration: {iteration} number_of_items: {node_count} time_total: {end_t-start_t}\")"
   ]
  },
  {
   "cell_type": "markdown",
   "id": "244f8694-5987-465d-9416-aa8381e5f144",
   "metadata": {
    "tags": []
   },
   "source": [
    "### Neo4j Misc"
   ]
  },
  {
   "cell_type": "code",
   "execution_count": 283,
   "id": "81f6b7b4-a5ba-46ff-8553-c051d631c062",
   "metadata": {},
   "outputs": [
    {
     "name": "stdout",
     "output_type": "stream",
     "text": [
      "Neo4J url: bolt+s://neo4jpaper.pods.icicle.develop.tapis.io:443\n",
      "Number of nodes in the database: 200000\n"
     ]
    }
   ],
   "source": [
    "# If you're looking for the amount of nodes in the database/you want to test the neo4j connection.\n",
    "# Match and return # of nodes\n",
    "with neo.session() as session:\n",
    "    print(f\"Neo4J url: {url}\")\n",
    "    result = session.run(\"MATCH (n) RETURN n\")\n",
    "    print(f\"Number of nodes in the database: {len(result.values())}\")"
   ]
  },
  {
   "cell_type": "markdown",
   "id": "3a29b834-5fd3-439b-b114-b2caf210b4b4",
   "metadata": {
    "tags": []
   },
   "source": [
    "# Postgres Testing\n",
    "For these tests we will create a Postgres instance in the Pods service, in Google Cloud Postgres, and locally with Docker. We will then import our synthetic data to each of these three instances. We'll then run our experiments by changing the urls and executing code in the \"Postgres Testing Function\" code block. We have three sets of synthetic data, so we'll delete and recreate three times, each with a different set of data."
   ]
  },
  {
   "cell_type": "markdown",
   "id": "7603f4e1-e1c2-400e-8a1b-b4ead7e176b5",
   "metadata": {
    "tags": []
   },
   "source": [
    "## Postgres with Pods Service\n",
    "You'll need to create the Pod, get it's credentials from the API and then load the CSV into the database."
   ]
  },
  {
   "cell_type": "code",
   "execution_count": 37,
   "id": "0635674b-d232-4b30-a204-ef8e242460c2",
   "metadata": {},
   "outputs": [],
   "source": [
    "# Import libs, setup credentials, and postgres connection\n",
    "import psycopg2\n",
    "import csv\n",
    "\n",
    "\n",
    "url = \"postgrespaper.pods.icicle.develop.tapis.io\"\n",
    "port = \"443\"\n",
    "user = \"postgrespaper\"\n",
    "passw = \"password\"\n",
    "\n",
    "# Connect to the PostgreSQL database\n",
    "connection = psycopg2.connect(host=url, port=port, dbname=\"postgres\", user=user, password=passw)\n",
    "cursor = connection.cursor()"
   ]
  },
  {
   "cell_type": "code",
   "execution_count": 41,
   "id": "220a3ca5-d016-4a6b-9103-12f0dda90da2",
   "metadata": {},
   "outputs": [
    {
     "name": "stdout",
     "output_type": "stream",
     "text": [
      "Table 'workers' created.\n"
     ]
    }
   ],
   "source": [
    "# First create workers table\n",
    "# Connect to the PostgreSQL database\n",
    "connection = psycopg2.connect(host=url, port=port, dbname=\"postgres\", user=user, password=passw)\n",
    "cursor = connection.cursor()\n",
    "\n",
    "# Create the 'workers' table\n",
    "create_table_query = '''\n",
    "CREATE TABLE workers (\n",
    "    name VARCHAR(255),\n",
    "    email VARCHAR(255),\n",
    "    phone_number VARCHAR(255),\n",
    "    address VARCHAR(255),\n",
    "    description TEXT,\n",
    "    company VARCHAR(255)\n",
    ");\n",
    "'''\n",
    "\n",
    "try:\n",
    "    cursor.execute(create_table_query)\n",
    "    connection.commit()\n",
    "    print(\"Table 'workers' created.\")\n",
    "except psycopg2.errors.DuplicateTable:\n",
    "    print(\"Table 'workers' already exists\")\n",
    "    pass\n",
    "\n",
    "# Close the database connection\n",
    "cursor.close()\n",
    "connection.close()"
   ]
  },
  {
   "cell_type": "code",
   "execution_count": 43,
   "id": "5cc8106e-251c-491c-9403-bffa5b6ecb7a",
   "metadata": {},
   "outputs": [
    {
     "name": "stdout",
     "output_type": "stream",
     "text": [
      "CSV data loaded into the 'workers' table.\n"
     ]
    }
   ],
   "source": [
    "# Now add data from csv to workers table\n",
    "connection = psycopg2.connect(host=url, port=port, dbname=\"postgres\", user=user, password=passw)\n",
    "cursor = connection.cursor()\n",
    "\n",
    "cursor.execute(\"COPY workers (name, email, phone_number, address, description, company) FROM '/tapisvolume/syntheticdata10000.csv' DELIMITER ',' CSV HEADER;\")\n",
    "\n",
    "# Commit the changes\n",
    "connection.commit()\n",
    "\n",
    "# Close the database connection\n",
    "cursor.close()\n",
    "connection.close()\n",
    "\n",
    "print(\"CSV data loaded into the 'workers' table.\")"
   ]
  },
  {
   "cell_type": "markdown",
   "id": "da359f07-6452-4ed6-a6d8-fe70840dcbbb",
   "metadata": {
    "tags": []
   },
   "source": [
    "## Postgres on localhost\n",
    "You'll need to create the Pod, get it's credentials from the API and then load the CSV into the database."
   ]
  },
  {
   "cell_type": "code",
   "execution_count": 362,
   "id": "48d3fd21-f0b5-49b6-aa02-7a6616134c24",
   "metadata": {},
   "outputs": [],
   "source": [
    "# Import libs, setup credentials, and postgres connection\n",
    "import psycopg2\n",
    "import csv\n",
    "\n",
    "url = \"localhost\"\n",
    "port = \"7812\"\n",
    "user = \"postgres\"\n",
    "passw = \"newPassword\"\n",
    "\n",
    "# Connect to the PostgreSQL database\n",
    "connection = psycopg2.connect(host=url, port=port, dbname=\"postgres\", user=user, password=passw)\n",
    "cursor = connection.cursor()"
   ]
  },
  {
   "cell_type": "code",
   "execution_count": 9,
   "id": "13b7a244-16d9-412d-8fe1-a7bff6a25cac",
   "metadata": {},
   "outputs": [
    {
     "name": "stdout",
     "output_type": "stream",
     "text": [
      "Table 'workers' created.\n"
     ]
    }
   ],
   "source": [
    "# First create workers table\n",
    "# Connect to the PostgreSQL database\n",
    "connection = psycopg2.connect(host=url, port=port, dbname=\"postgres\", user=user, password=passw)\n",
    "cursor = connection.cursor()\n",
    "\n",
    "# Create the 'workers' table\n",
    "create_table_query = '''\n",
    "CREATE TABLE workers (\n",
    "    name VARCHAR(255),\n",
    "    email VARCHAR(255),\n",
    "    phone_number VARCHAR(255),\n",
    "    address VARCHAR(255),\n",
    "    description TEXT,\n",
    "    company VARCHAR(255)\n",
    ");\n",
    "'''\n",
    "\n",
    "try:\n",
    "    cursor.execute(create_table_query)\n",
    "    connection.commit()\n",
    "    print(\"Table 'workers' created.\")\n",
    "except psycopg2.errors.DuplicateTable:\n",
    "    print(\"Table 'workers' already exists\")\n",
    "    pass\n",
    "\n",
    "# Close the database connection\n",
    "cursor.close()\n",
    "connection.close()"
   ]
  },
  {
   "cell_type": "code",
   "execution_count": 364,
   "id": "f63fe96d-e232-4a73-96e4-25af1af56a61",
   "metadata": {},
   "outputs": [
    {
     "name": "stdout",
     "output_type": "stream",
     "text": [
      "CSV data loaded into the 'workers' table.\n"
     ]
    }
   ],
   "source": [
    "# Now add data from csv to workers table\n",
    "# Replace this with the path to your CSV file\n",
    "connection = psycopg2.connect(host=url, port=port, dbname=\"postgres\", user=user, password=passw)\n",
    "cursor = connection.cursor()\n",
    "\n",
    "cursor.execute(\"COPY workers (name, email, phone_number, address, description, company) FROM '/syntheticdata500000.csv' DELIMITER ',' CSV HEADER;\")\n",
    "\n",
    "# Commit the changes\n",
    "connection.commit()\n",
    "\n",
    "# Close the database connection\n",
    "cursor.close()\n",
    "connection.close()\n",
    "\n",
    "print(\"CSV data loaded into the 'workers' table.\")"
   ]
  },
  {
   "cell_type": "markdown",
   "id": "92a77358-c38f-4d53-8670-da6378b06670",
   "metadata": {
    "tags": []
   },
   "source": [
    "## Postgres on Google Cloud\n",
    "You'll need to create the DB, get it's credentials from the API and then load the CSV into the database.\n",
    "\n",
    "Link: https://cloud.google.com/sql/docs/postgres\n",
    "\n",
    "To note, you'll also need to add your local IP to Google Cloud's IP allowlist. This is a guide: https://medium.com/google-cloud/cloud-sql-public-ip-allowlist-e2e375b4432d"
   ]
  },
  {
   "cell_type": "code",
   "execution_count": 22,
   "id": "62dcb542-fa24-4073-b32b-0837c15e7832",
   "metadata": {},
   "outputs": [],
   "source": [
    "import psycopg2\n",
    "\n",
    "## Google Cloud Postgres\n",
    "user = \"postgres\"\n",
    "passw = \"password\"\n",
    "url = \"22.322.322.22\"\n",
    "\n",
    "connection = psycopg2.connect(host=url, dbname=\"postgres\", user=user, password=passw)\n",
    "cursor = connection.cursor()"
   ]
  },
  {
   "cell_type": "code",
   "execution_count": 33,
   "id": "022d61c8-34da-4e7a-b28a-f7ae5220453b",
   "metadata": {},
   "outputs": [
    {
     "name": "stdout",
     "output_type": "stream",
     "text": [
      "Table 'workers' created.\n"
     ]
    }
   ],
   "source": [
    "# First create workers table\n",
    "# Connect to the PostgreSQL database\n",
    "connection = psycopg2.connect(host=url, port=port, dbname=\"postgres\", user=user, password=passw)\n",
    "cursor = connection.cursor()\n",
    "\n",
    "# Create the 'workers' table\n",
    "create_table_query = '''\n",
    "CREATE TABLE workers (\n",
    "    name VARCHAR(255),\n",
    "    email VARCHAR(255),\n",
    "    phone_number VARCHAR(255),\n",
    "    address VARCHAR(255),\n",
    "    description TEXT,\n",
    "    company VARCHAR(255)\n",
    ");\n",
    "'''\n",
    "\n",
    "try:\n",
    "    cursor.execute(create_table_query)\n",
    "    connection.commit()\n",
    "    print(\"Table 'workers' created.\")\n",
    "except psycopg2.errors.DuplicateTable:\n",
    "    print(\"Table 'workers' already exists\")\n",
    "    pass\n",
    "\n",
    "# Close the database connection\n",
    "cursor.close()\n",
    "connection.close()"
   ]
  },
  {
   "cell_type": "markdown",
   "id": "472178fe-1223-486c-9229-93da045f8afe",
   "metadata": {
    "tags": []
   },
   "source": [
    "## Postgres Testing Function"
   ]
  },
  {
   "cell_type": "code",
   "execution_count": null,
   "id": "52108634-ae1f-4021-8d77-0765ec596095",
   "metadata": {},
   "outputs": [],
   "source": [
    "import time\n",
    "import timeit\n",
    "print(f\"Postgres url: {url}:{port}\")\n",
    "for iteration in range(60):\n",
    "    \n",
    "    # Create connection and get cursor\n",
    "    connection = psycopg2.connect(host=url, port=port, dbname=\"postgres\", user=user, password=passw)\n",
    "    cursor = connection.cursor()\n",
    "    \n",
    "    start_t = timeit.default_timer()\n",
    "\n",
    "    select_query = \"SELECT * FROM workers;\"\n",
    "    cursor.execute(select_query)\n",
    "    row_count = len(cursor.fetchall())\n",
    "\n",
    "    end_t = timeit.default_timer()\n",
    "    \n",
    "    # Close the database connection\n",
    "    cursor.close()\n",
    "    connection.close()\n",
    "    \n",
    "    print(f\"iteration: {iteration} number_of_items: {row_count} time_total: {end_t-start_t}\")\n",
    "    time.sleep(1)"
   ]
  },
  {
   "cell_type": "code",
   "execution_count": 40,
   "id": "94306f11-af8d-4212-96a0-8e408cea2b23",
   "metadata": {},
   "outputs": [],
   "source": [
    "# Delete current workers table\n",
    "connection = psycopg2.connect(host=url, port=443, dbname=\"postgres\", user=user, password=passw)\n",
    "cursor = connection.cursor()\n",
    "table_name='workers'\n",
    "cursor.execute(f\"DROP TABLE IF EXISTS {table_name} CASCADE\")\n",
    "connection.commit()\n",
    "# Close the database connection\n",
    "cursor.close()\n",
    "connection.close()"
   ]
  },
  {
   "cell_type": "markdown",
   "id": "65a5e171-5e9b-4f7f-9382-dc2a01decfaf",
   "metadata": {},
   "source": [
    "# FastAPI Testing\n",
    "Create local instance with docker-compose.yml. Get url.  \n",
    "Create pod instance with API, get url."
   ]
  },
  {
   "cell_type": "markdown",
   "id": "303ce6fa-161b-45fa-9306-e8475a23fe6d",
   "metadata": {},
   "source": [
    "## FastAPI Testing Function"
   ]
  },
  {
   "cell_type": "code",
   "execution_count": null,
   "id": "dce9bc8c-6400-45d9-8362-61e25b9b8f4a",
   "metadata": {},
   "outputs": [],
   "source": [
    "import requests as r\n",
    "import time\n",
    "import timeit\n",
    "\n",
    "for iteration in range(60):\n",
    "    start_t = timeit.default_timer()\n",
    "    result = r.get('https://fastapipaper.pods.icicle.develop.tapis.io')\n",
    "    end_t = timeit.default_timer()\n",
    "    time.sleep(.2)\n",
    "    #print(f\"iteration: {iteration} time_total: {end_t-start_t}\")\n",
    "    print(end_t-start_t)\n",
    "    #print(result.json())"
   ]
  },
  {
   "cell_type": "markdown",
   "id": "108dcf34-5658-46d6-a453-649faca71e85",
   "metadata": {},
   "source": [
    "## Log Parsing"
   ]
  },
  {
   "cell_type": "code",
   "execution_count": 35,
   "id": "eccf29c1-db40-4b33-b5e7-0271b659a186",
   "metadata": {},
   "outputs": [],
   "source": [
    "car = \"\"\"iteration: 0 number_of_items: 500001 time_total: 4.06858329847455\n",
    "iteration: 1 number_of_items: 500001 time_total: 3.8626063698902726\n",
    "iteration: 2 number_of_items: 500001 time_total: 5.630214522592723\n",
    "iteration: 3 number_of_items: 500001 time_total: 4.610894144512713\n",
    "iteration: 4 number_of_items: 500001 time_total: 5.150433995760977\n",
    "iteration: 5 number_of_items: 500001 time_total: 3.903535292483866\n",
    "iteration: 6 number_of_items: 500001 time_total: 3.9847047552466393\n",
    "iteration: 7 number_of_items: 500001 time_total: 5.040335590019822\n",
    "iteration: 8 number_of_items: 500001 time_total: 3.870199089869857\n",
    "iteration: 9 number_of_items: 500001 time_total: 4.046817721799016\n",
    "iteration: 10 number_of_items: 500001 time_total: 3.8450532825663686\n",
    "iteration: 11 number_of_items: 500001 time_total: 3.918391726911068\n",
    "iteration: 12 number_of_items: 500001 time_total: 3.9219076046720147\n",
    "iteration: 13 number_of_items: 500001 time_total: 4.878413186408579\n",
    "iteration: 14 number_of_items: 500001 time_total: 4.3378392942249775\n",
    "iteration: 15 number_of_items: 500001 time_total: 3.904729143716395\n",
    "iteration: 16 number_of_items: 500001 time_total: 5.43999008834362\n",
    "iteration: 17 number_of_items: 500001 time_total: 5.187447725795209\n",
    "iteration: 18 number_of_items: 500001 time_total: 3.9014492658898234\n",
    "iteration: 19 number_of_items: 500001 time_total: 4.013528158888221\n",
    "iteration: 20 number_of_items: 500001 time_total: 4.975224238820374\n",
    "iteration: 21 number_of_items: 500001 time_total: 5.268680344335735\n",
    "iteration: 22 number_of_items: 500001 time_total: 4.003169623203576\n",
    "iteration: 23 number_of_items: 500001 time_total: 5.035185583867133\n",
    "iteration: 24 number_of_items: 500001 time_total: 3.926520451903343\n",
    "iteration: 25 number_of_items: 500001 time_total: 3.8629355849698186\n",
    "iteration: 26 number_of_items: 500001 time_total: 3.9954193020239472\n",
    "iteration: 27 number_of_items: 500001 time_total: 4.834351510740817\n",
    "iteration: 28 number_of_items: 500001 time_total: 4.973814412020147\n",
    "iteration: 29 number_of_items: 500001 time_total: 6.296275618486106\n",
    "iteration: 30 number_of_items: 500001 time_total: 3.9011220717802644\n",
    "iteration: 31 number_of_items: 500001 time_total: 4.441186179406941\n",
    "iteration: 32 number_of_items: 500001 time_total: 5.158780609257519\n",
    "iteration: 33 number_of_items: 500001 time_total: 4.009407182224095\n",
    "iteration: 34 number_of_items: 500001 time_total: 3.8955306131392717\n",
    "iteration: 35 number_of_items: 500001 time_total: 4.382479537278414\n",
    "iteration: 36 number_of_items: 500001 time_total: 3.915195510722697\n",
    "iteration: 37 number_of_items: 500001 time_total: 5.811555355787277\n",
    "iteration: 38 number_of_items: 500001 time_total: 4.3888355335220695\n",
    "iteration: 39 number_of_items: 500001 time_total: 5.213144165463746\n",
    "iteration: 40 number_of_items: 500001 time_total: 3.871880735270679\n",
    "iteration: 41 number_of_items: 500001 time_total: 5.155211192555726\n",
    "iteration: 42 number_of_items: 500001 time_total: 5.100531295873225\n",
    "iteration: 43 number_of_items: 500001 time_total: 4.499079331755638\n",
    "iteration: 44 number_of_items: 500001 time_total: 4.412205909378827\n",
    "iteration: 45 number_of_items: 500001 time_total: 4.178113849833608\n",
    "iteration: 46 number_of_items: 500001 time_total: 3.8537090085446835\n",
    "iteration: 47 number_of_items: 500001 time_total: 6.7891157902777195\n",
    "iteration: 48 number_of_items: 500001 time_total: 5.5942978309467435\n",
    "iteration: 49 number_of_items: 500001 time_total: 4.90167126711458\n",
    "iteration: 50 number_of_items: 500001 time_total: 4.951330647803843\n",
    "iteration: 51 number_of_items: 500001 time_total: 4.419565484859049\n",
    "iteration: 52 number_of_items: 500001 time_total: 3.86984998639673\n",
    "iteration: 53 number_of_items: 500001 time_total: 5.556173398159444\n",
    "iteration: 54 number_of_items: 500001 time_total: 4.682019389234483\n",
    "iteration: 55 number_of_items: 500001 time_total: 4.023812619037926\n",
    "iteration: 56 number_of_items: 500001 time_total: 3.940865189768374\n",
    "iteration: 57 number_of_items: 500001 time_total: 5.182402773760259\n",
    "iteration: 58 number_of_items: 500001 time_total: 3.9073168393224478\n",
    "iteration: 59 number_of_items: 500001 time_total: 3.847339735366404\"\"\""
   ]
  },
  {
   "cell_type": "code",
   "execution_count": 36,
   "id": "41a985e5-ef6f-4291-8afe-db6c86e666e7",
   "metadata": {},
   "outputs": [
    {
     "name": "stdout",
     "output_type": "stream",
     "text": [
      "4.06858329847455\n",
      "3.8626063698902726\n",
      "5.630214522592723\n",
      "4.610894144512713\n",
      "5.150433995760977\n",
      "3.903535292483866\n",
      "3.9847047552466393\n",
      "5.040335590019822\n",
      "3.870199089869857\n",
      "4.046817721799016\n",
      "3.8450532825663686\n",
      "3.918391726911068\n",
      "3.9219076046720147\n",
      "4.878413186408579\n",
      "4.3378392942249775\n",
      "3.904729143716395\n",
      "5.43999008834362\n",
      "5.187447725795209\n",
      "3.9014492658898234\n",
      "4.013528158888221\n",
      "4.975224238820374\n",
      "5.268680344335735\n",
      "4.003169623203576\n",
      "5.035185583867133\n",
      "3.926520451903343\n",
      "3.8629355849698186\n",
      "3.9954193020239472\n",
      "4.834351510740817\n",
      "4.973814412020147\n",
      "6.296275618486106\n",
      "3.9011220717802644\n",
      "4.441186179406941\n",
      "5.158780609257519\n",
      "4.009407182224095\n",
      "3.8955306131392717\n",
      "4.382479537278414\n",
      "3.915195510722697\n",
      "5.811555355787277\n",
      "4.3888355335220695\n",
      "5.213144165463746\n",
      "3.871880735270679\n",
      "5.155211192555726\n",
      "5.100531295873225\n",
      "4.499079331755638\n",
      "4.412205909378827\n",
      "4.178113849833608\n",
      "3.8537090085446835\n",
      "6.7891157902777195\n",
      "5.5942978309467435\n",
      "4.90167126711458\n",
      "4.951330647803843\n",
      "4.419565484859049\n",
      "3.86984998639673\n",
      "5.556173398159444\n",
      "4.682019389234483\n",
      "4.023812619037926\n",
      "3.940865189768374\n",
      "5.182402773760259\n",
      "3.9073168393224478\n",
      "3.847339735366404\n"
     ]
    }
   ],
   "source": [
    "for line in car.split('\\n'):\n",
    "    iteration, time = line.replace('iteration: ', '').split(\"number_of_items: 500001 time_total: \")\n",
    "    iteration = int(iteration) + 1\n",
    "    #print(iteration)\n",
    "    print(time)"
   ]
  }
 ],
 "metadata": {
  "kernelspec": {
   "display_name": "Python 3 (ipykernel)",
   "language": "python",
   "name": "python3"
  },
  "language_info": {
   "codemirror_mode": {
    "name": "ipython",
    "version": 3
   },
   "file_extension": ".py",
   "mimetype": "text/x-python",
   "name": "python",
   "nbconvert_exporter": "python",
   "pygments_lexer": "ipython3",
   "version": "3.8.10"
  }
 },
 "nbformat": 4,
 "nbformat_minor": 5
}
